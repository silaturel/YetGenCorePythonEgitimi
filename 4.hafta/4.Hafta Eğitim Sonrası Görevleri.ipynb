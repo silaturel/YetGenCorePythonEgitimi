{
 "cells": [
  {
   "cell_type": "markdown",
   "metadata": {},
   "source": [
    "# Problem 1\n",
    "`ogrenciler` adında bir sözlük oluşturunuz. Kullanıcıdan döngü yardımıyla 3 öğrenci için veri girmesini isteyerek öğrencilerin sırasıyla okul numarası, isim, soy isim, telefon numarası ve doğum tarihi bilgilerini alınız. Aldığınız öğrenci bilgilerini yine aynı döngü yardımıyla `ogrenciler` adındaki sözlükte saklayınız. Daha sonra öğrenci bilgilerinin bulunduğu sözlük yapısını ekrana bastırınız.\n",
    "\n"
   ]
  },
  {
   "cell_type": "code",
   "execution_count": 1,
   "metadata": {},
   "outputs": [
    {
     "name": "stdout",
     "output_type": "stream",
     "text": [
      "{1: {'okul_no': '118', 'isim': 'sıla', 'soyisim': 'türel', 'telefon_no': '05355437963', 'dogum_tarihi': '29.07.2003'}, 2: {'okul_no': '304', 'isim': 'ahmet', 'soyisim': 'yiğit', 'telefon_no': '05355437964', 'dogum_tarihi': '30.05.2000'}, 3: {'okul_no': '500', 'isim': 'serhat', 'soyisim': 'tan', 'telefon_no': '05305217845', 'dogum_tarihi': '02.02.2009'}}\n"
     ]
    }
   ],
   "source": [
    "# 1.Problemin Çözümünü Buraya Yazınız\n",
    "ogrenciler = {}\n",
    "\n",
    "for i in range(3):\n",
    "    ogrenci = {}\n",
    "    \n",
    "    ogrenci['okul_no'] = input(\"{}. öğrencinin okul numarasını girin: \".format(i+1))\n",
    "    ogrenci['isim'] = input(\"{}. öğrencinin ismini girin: \".format(i+1))\n",
    "    ogrenci['soyisim'] = input(\"{}. öğrencinin soyismini girin: \".format(i+1))\n",
    "    ogrenci['telefon_no'] = input(\"{}. öğrencinin telefon numarasını girin: \".format(i+1))\n",
    "    ogrenci['dogum_tarihi'] = input(\"{}. öğrencinin doğum tarihini (GG.AA.YYYY) formatında girin: \".format(i+1))\n",
    "    \n",
    "    ogrenciler[i+1] = ogrenci\n",
    "\n",
    "print(ogrenciler)\n"
   ]
  },
  {
   "cell_type": "markdown",
   "metadata": {},
   "source": [
    "# Problem 2\n",
    "\n",
    "### a - Biraz ısınarak başlayalım!\n",
    "\n",
    "```\n",
    "numbers = [5,10,10,15,15,15,20,20,20,20]\n",
    "```\n",
    "\n",
    "Yukarıda `numbers` adında 10 elemanlı bir liste verilmiştir. Bu listenin her elemanını kontrol eden ve tekrar eden elemanları bir kez olacak şekilde başka bir listeye kopyalayan bir program yazınız. Son olarak oluşturduğunuz listeyi ekrana bastırınız.\n",
    "\n",
    "\n",
    "\n",
    "\n",
    "```\n",
    ">Output\n",
    "[5, 10, 15, 20]\n",
    "```\n"
   ]
  },
  {
   "cell_type": "code",
   "execution_count": 2,
   "metadata": {},
   "outputs": [
    {
     "name": "stdout",
     "output_type": "stream",
     "text": [
      "[5, 10, 15, 20]\n"
     ]
    }
   ],
   "source": [
    "# 2.Problemin a Şıkkının Çözümünü Buraya Yazınız\n",
    "numbers = [5,10,10,15,15,15,20,20,20,20]\n",
    "unique_numbers = []\n",
    "\n",
    "for number in numbers:\n",
    "    if number not in unique_numbers:\n",
    "        unique_numbers.append(number)\n",
    "\n",
    "print(unique_numbers)\n"
   ]
  },
  {
   "cell_type": "markdown",
   "metadata": {},
   "source": [
    "### 🌶️ b) Hadi işi biraz daha zorlaştıralım! \n",
    "\n",
    "\n",
    "Şimdiyse senden `numbers` isimli listedeki tekrar eden elemanları `repeatNumbers` adındaki listeye; tekrar etmeyen elemanları `uniqueNumbers`adındaki listeye kopyalayan yazmanı ve listeleri ekrana bastırmanı bekliyoruz\n",
    "\n",
    "```\n",
    ">Output\n",
    "Tekrar Eden Elemanlar: [10, 10, 15, 15, 15, 20, 20, 20, 20]\n",
    "Tekrar Etmeyen Elemanlar: [5]\n",
    "```"
   ]
  },
  {
   "cell_type": "code",
   "execution_count": 3,
   "metadata": {},
   "outputs": [
    {
     "name": "stdout",
     "output_type": "stream",
     "text": [
      "Tekrar Eden Elemanlar: [10, 15, 20]\n",
      "Tekrar Etmeyen Elemanlar: [5, 10, 15, 20]\n"
     ]
    }
   ],
   "source": [
    "# 2.Problemin b Şıkkının Çözümünü Buraya Yazınız\n",
    "numbers = [5,10,10,15,15,15,20,20,20,20]\n",
    "repeatNumbers = []\n",
    "uniqueNumbers = []\n",
    "\n",
    "for number in numbers:\n",
    "    if number not in uniqueNumbers:\n",
    "        uniqueNumbers.append(number)\n",
    "    elif number not in repeatNumbers:\n",
    "        repeatNumbers.append(number)\n",
    "\n",
    "print(\"Tekrar Eden Elemanlar:\", repeatNumbers)\n",
    "print(\"Tekrar Etmeyen Elemanlar:\", uniqueNumbers)\n"
   ]
  },
  {
   "cell_type": "markdown",
   "metadata": {},
   "source": [
    "# Problem 3\n",
    "sn1 = {1,2,3,4,5}\n",
    "\n",
    "sn2 = {4,5,6,7,8}\n",
    "\n",
    " Verilen 2 adet küme için kesişimlerini, farklarını ve birleşimlerini bulunuz. "
   ]
  },
  {
   "cell_type": "code",
   "execution_count": 4,
   "metadata": {},
   "outputs": [
    {
     "name": "stdout",
     "output_type": "stream",
     "text": [
      "Kesişim: {4, 5}\n",
      "sn1 fark sn2: {1, 2, 3}\n",
      "sn2 fark sn1: {8, 6, 7}\n",
      "Birleşim: {1, 2, 3, 4, 5, 6, 7, 8}\n"
     ]
    }
   ],
   "source": [
    "# 3.Problemin Çözümünü Buraya Yazınız\n",
    "sn1 = {1, 2, 3, 4, 5}\n",
    "sn2 = {4, 5, 6, 7, 8}\n",
    "\n",
    "kesisim = sn1.intersection(sn2)\n",
    "fark1 = sn1.difference(sn2)\n",
    "fark2 = sn2.difference(sn1)\n",
    "birlesim = sn1.union(sn2)\n",
    "\n",
    "print(\"Kesişim:\", kesisim)\n",
    "print(\"sn1 fark sn2:\", fark1)\n",
    "print(\"sn2 fark sn1:\", fark2)\n",
    "print(\"Birleşim:\", birlesim)\n"
   ]
  },
  {
   "cell_type": "markdown",
   "metadata": {},
   "source": [
    "# Problem 4\n",
    "\n",
    "Buradaki işlemlerimizin tamamı stringler içindir. Aşağıda verilecek olan metodlar için kendinizin örnek yaratması gerekmektedir. \n",
    "\n",
    "Örneğin `upper` için `string` değişkeni oluştururken` k = \"BAC\"` şeklinde oluşturmayınız. Bunun yerine k değişkenini `k = \"bac`\" şeklinde oluşturmanız `upper` metodundaki değişimi görebilmeniz için daha iyi olacaktır.\n",
    "\n",
    "Bütün metodlardaki değişimin gözle görülür şekilde değişimi beklenmektedir.\n",
    "\n",
    "\n",
    "1- capitalize(), lower(), upper(), swapcase(), title(), replace()\n",
    "\n",
    "2- endswith(), startswith(), find(), index(), count()\n",
    "\n",
    "3- split(), strip(), join(), islower(), isalpha(), isdigit()\n",
    "\n",
    "\n",
    "Yukarıdaki `string` metodlarındaki değişimleri görebildiğimiz bir program yazınız.\n"
   ]
  },
  {
   "cell_type": "code",
   "execution_count": 6,
   "metadata": {},
   "outputs": [
    {
     "name": "stdout",
     "output_type": "stream",
     "text": [
      "capitalize() methodu uygulanmadan önce:  hello world\n",
      "capitalize() methodu uygulandıktan sonra:  Hello world\n",
      "lower() methodu uygulandıktan sonra:  hello world\n",
      "upper() methodu uygulandıktan sonra:  HELLO WORLD\n",
      "swapcase() methodu uygulandıktan sonra:  hello world\n",
      "title() methodu uygulandıktan sonra:  Hello World\n",
      "replace() methodu uygulandıktan sonra:  HeLLo WorLd\n",
      "endswith() methodu uygulandıktan sonra:  True\n",
      "startswith() methodu uygulandıktan sonra:  True\n",
      "find() methodu uygulandıktan sonra:  8\n",
      "index() methodu uygulandıktan sonra:  8\n",
      "count() methodu uygulandıktan sonra:  3\n",
      "split() methodu uygulandıktan sonra:  ['Merhaba']\n",
      "strip() methodu uygulandıktan sonra:  Merhaba\n",
      "join() methodu uygulandıktan sonra:  Merhaba-Dünya\n",
      "islower() methodu uygulandıktan sonra:  False\n",
      "isalpha() methodu uygulandıktan sonra:  True\n",
      "isdigit() methodu uygulandıktan sonra:  False\n"
     ]
    }
   ],
   "source": [
    "# 4.Problemin Çözümünü Buraya Yazınız\n",
    "#1- capitalize(), lower(), upper(), swapcase(), title(), replace()\n",
    "\n",
    "s = \"hello world\"\n",
    "\n",
    "#capitalize()\n",
    "print(\"capitalize() methodu uygulanmadan önce: \", s)\n",
    "s = s.capitalize()\n",
    "print(\"capitalize() methodu uygulandıktan sonra: \", s)\n",
    "\n",
    "#lower()\n",
    "s = s.lower()\n",
    "print(\"lower() methodu uygulandıktan sonra: \", s)\n",
    "\n",
    "#upper()\n",
    "s = s.upper()\n",
    "print(\"upper() methodu uygulandıktan sonra: \", s)\n",
    "\n",
    "#swapcase()\n",
    "s = s.swapcase()\n",
    "print(\"swapcase() methodu uygulandıktan sonra: \", s)\n",
    "\n",
    "#title()\n",
    "s = s.title()\n",
    "print(\"title() methodu uygulandıktan sonra: \", s)\n",
    "\n",
    "#replace()\n",
    "s = s.replace(\"l\", \"L\")\n",
    "print(\"replace() methodu uygulandıktan sonra: \", s)\n",
    "\n",
    "#2- endswith(), startswith(), find(), index(), count()\n",
    "\n",
    "s = \"Merhaba Dünya\"\n",
    "\n",
    "#endswith()\n",
    "print(\"endswith() methodu uygulandıktan sonra: \", s.endswith(\"ya\"))\n",
    "\n",
    "#startswith()\n",
    "print(\"startswith() methodu uygulandıktan sonra: \", s.startswith(\"M\"))\n",
    "\n",
    "#find()\n",
    "print(\"find() methodu uygulandıktan sonra: \", s.find(\"Dünya\"))\n",
    "\n",
    "#index()\n",
    "print(\"index() methodu uygulandıktan sonra: \", s.index(\"Dünya\"))\n",
    "\n",
    "#count()\n",
    "print(\"count() methodu uygulandıktan sonra: \", s.count(\"a\"))\n",
    "\n",
    "#3- split(), strip(), join(), islower(), isalpha(), isdigit()\n",
    "\n",
    "s = \"    Merhaba    \"\n",
    "\n",
    "#split()\n",
    "print(\"split() methodu uygulandıktan sonra: \", s.split())\n",
    "\n",
    "#strip()\n",
    "s = s.strip()\n",
    "print(\"strip() methodu uygulandıktan sonra: \", s)\n",
    "\n",
    "#join()\n",
    "liste = [\"Merhaba\", \"Dünya\"]\n",
    "print(\"join() methodu uygulandıktan sonra: \", \"-\".join(liste))\n",
    "\n",
    "#islower()\n",
    "print(\"islower() methodu uygulandıktan sonra: \", s.islower())\n",
    "\n",
    "#isalpha()\n",
    "print(\"isalpha() methodu uygulandıktan sonra: \", s.isalpha())\n",
    "\n",
    "#isdigit()\n",
    "print(\"isdigit() methodu uygulandıktan sonra: \", s.isdigit())"
   ]
  }
 ],
 "metadata": {
  "kernelspec": {
   "display_name": "Python 3.10.5 64-bit",
   "language": "python",
   "name": "python3"
  },
  "language_info": {
   "codemirror_mode": {
    "name": "ipython",
    "version": 3
   },
   "file_extension": ".py",
   "mimetype": "text/x-python",
   "name": "python",
   "nbconvert_exporter": "python",
   "pygments_lexer": "ipython3",
   "version": "3.11.1"
  },
  "orig_nbformat": 4,
  "vscode": {
   "interpreter": {
    "hash": "5026d2d6e7aaaaba093def813beadff083d8733e4a511af01735cbabd156995d"
   }
  }
 },
 "nbformat": 4,
 "nbformat_minor": 2
}
